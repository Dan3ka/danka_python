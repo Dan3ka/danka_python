{
  "nbformat": 4,
  "nbformat_minor": 0,
  "metadata": {
    "colab": {
      "provenance": [],
      "authorship_tag": "ABX9TyOCBgl/nVN6iiFw1EK3VIc3",
      "include_colab_link": true
    },
    "kernelspec": {
      "name": "python3",
      "display_name": "Python 3"
    },
    "language_info": {
      "name": "python"
    }
  },
  "cells": [
    {
      "cell_type": "markdown",
      "metadata": {
        "id": "view-in-github",
        "colab_type": "text"
      },
      "source": [
        "<a href=\"https://colab.research.google.com/github/Dan3ka/danka_python/blob/main/task1_VAR13.ipynb\" target=\"_parent\"><img src=\"https://colab.research.google.com/assets/colab-badge.svg\" alt=\"Open In Colab\"/></a>"
      ]
    },
    {
      "cell_type": "markdown",
      "source": [
        "Вариант 13\n",
        "Хасанова Дана 09-312 ПМИ"
      ],
      "metadata": {
        "id": "pkQH2AiouTXf"
      }
    },
    {
      "cell_type": "markdown",
      "source": [
        "Задание 1"
      ],
      "metadata": {
        "id": "7u2rcOXCu-uW"
      }
    },
    {
      "cell_type": "markdown",
      "source": [
        "Задание 1:\n",
        "Вычислить\n",
        "y=sin^2(x)+cos(x)3e^(-2x)"
      ],
      "metadata": {
        "id": "1Jf3QNX9vg5L"
      }
    },
    {
      "cell_type": "code",
      "source": [
        "from math import *\n",
        "\n",
        "#task 1)\n",
        "arg=float (input(\"Enter x: \"))\n",
        "res_1=sin(arg)**2+cos(arg)*3*e**(-2*arg)\n",
        "\n",
        "print(f\"Result of expression{res_1}\\n \")"
      ],
      "metadata": {
        "id": "DSJfDS_ivjFP"
      },
      "execution_count": null,
      "outputs": []
    },
    {
      "cell_type": "markdown",
      "source": [
        "Задание 2:\n",
        "Вычислить z=e^(9x)+3e^(-2x)"
      ],
      "metadata": {
        "id": "iKw8euKBv3mG"
      }
    },
    {
      "cell_type": "code",
      "source": [
        "res_2=e**(9*arg)+3*e**(-2*arg)\n",
        "print(f\"Result of expression{res_2}\\n \")"
      ],
      "metadata": {
        "id": "1yXcMYe6wCl8"
      },
      "execution_count": null,
      "outputs": []
    },
    {
      "cell_type": "markdown",
      "source": [
        "Задание 3:\n",
        "Вычислить расстояние между двумя точками с данными координатами x1, y1 и x2, y2."
      ],
      "metadata": {
        "id": "lKYfChKYwFpU"
      }
    },
    {
      "cell_type": "code",
      "source": [
        "x_1, x_2, y_1, y_2=int (input(\"enter x_1\\n\")) ,\\\n",
        "    int(input(\"enter x_2\\n\")),\\\n",
        "    int(input(\"enter y_1\\n\")),\\\n",
        "    int(input(\"enter y_2\\n\"))\n",
        "res_3=sqrt((x_2-x_1)**2+(y_2-y_1)**2)\n",
        "print(f\"distance between two points is  {res_3}\\n\")\n"
      ],
      "metadata": {
        "id": "ICWSeUTzwMRK"
      },
      "execution_count": null,
      "outputs": []
    },
    {
      "cell_type": "markdown",
      "source": [
        "Задание 4:\n",
        "Дано трехзначное число. Вывести число, полученное при перестановке цифр десятков и единиц исходного числа (например, 123 перейдет в 132)."
      ],
      "metadata": {
        "id": "6bq94dnXwTE9"
      }
    },
    {
      "cell_type": "code",
      "source": [
        "num=int(input(\"Enter the number\"))\n",
        "num1=num//100\n",
        "num2=num%100//10\n",
        "num3=num%10\n",
        "res_4=num1*100+num3*10+num2\n",
        "\n",
        "print(f\"Result of task 4 {res_4}\\n\")"
      ],
      "metadata": {
        "id": "3zyMl_ppwUi6"
      },
      "execution_count": null,
      "outputs": []
    },
    {
      "cell_type": "markdown",
      "source": [
        "Задание 5:\n",
        "Даны два целых числа: A, B. Проверить истинность высказывания: «Справедливы неравенства A > 2 и B<=3»."
      ],
      "metadata": {
        "id": "JYKprsv9wfEL"
      }
    },
    {
      "cell_type": "code",
      "source": [
        "a, b=int(input(\"Enter first num-A\")), \\\n",
        "    int(input(\"Enter second num-B\"))\n",
        "res_5=bool(a>2 and b<=3)\n",
        "print(f\"Result of logical expression : (A>2) И (В<=3) is { res_5} \\n\")\n"
      ],
      "metadata": {
        "id": "kBuDhQDSwjTz",
        "colab": {
          "base_uri": "https://localhost:8080/"
        },
        "outputId": "06fc2482-2b4d-45c6-f6f4-a01fb22c3614"
      },
      "execution_count": null,
      "outputs": [
        {
          "output_type": "stream",
          "name": "stdout",
          "text": [
            "Enter first num-A1\n",
            "Enter second num-B2\n",
            "Result of logical expression : (A>2) И (В<=3) is False \n",
            "\n"
          ]
        }
      ]
    },
    {
      "cell_type": "markdown",
      "source": [
        "Блок 2\n",
        "Задание 1\n",
        "Для данного вещественного x найти значение следующей функции f, принимающей вещественные значения:\n",
        "                                               \n",
        "\n",
        "\n",
        "\n",
        "![е.png](data:image/png;base64,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)"
      ],
      "metadata": {
        "id": "CrRkx4WLwnWd"
      }
    },
    {
      "cell_type": "code",
      "source": [
        "X=float(input(\"Enter x\"))\n",
        "if X>3 :\n",
        "    res2_1=-3*X+9\n",
        "else :\n",
        "    res2_1=(X**3)/(X**2+8)\n",
        "print(f\"Result of function is {res2_1}\\n\")"
      ],
      "metadata": {
        "id": "3ELe5PIpw8lC"
      },
      "execution_count": null,
      "outputs": []
    },
    {
      "cell_type": "markdown",
      "source": [
        "Задание 2:\n",
        "Определить, имеется ли среди чисел a, b, c хотя бы одна пара взаимно противоположных чисел."
      ],
      "metadata": {
        "id": "GmvguMLhxCaf"
      }
    },
    {
      "cell_type": "code",
      "source": [
        "a, b, c = int(input(\"a->\")),\\\n",
        "          int(input(\"b->\")),\\\n",
        "          int(input(\"c->\"))\n",
        "count=0\n",
        "if a+b==0:\n",
        "    count+=1\n",
        "if a+c==0:\n",
        "    count+=1\n",
        "if b+c==0:\n",
        "    count+=1\n",
        "print(f\"The amount of opposite nums is {count}\")"
      ],
      "metadata": {
        "id": "0S6_1GrTxGgt"
      },
      "execution_count": null,
      "outputs": []
    },
    {
      "cell_type": "markdown",
      "source": [
        "Задание 3:\n",
        "Два прямоугольника, расположенные в первом квадранте, со сторонами, параллельными осям координат, заданы координатами своих левого верхнего и правого нижнего углов. Для первого прямоугольника это точки (х1, у1) и (х2, 0), для второго – (х3, у3), (х4, 0). Составить программу, определяющую, пересекаются ли данные прямоугольники, и вычисляющую площадь общей части, если они пересекаются."
      ],
      "metadata": {
        "id": "UeCkeZX8xPZB"
      }
    },
    {
      "cell_type": "code",
      "source": [
        "x1, y1, x2, x3, y3, x4 = int(input(\"Enter coordinate x1->\")),\\\n",
        "                       int(input(\"Enter coordinate y1>\")),\\\n",
        "                       int(input(\"Enter coordinate x2->\")),\\\n",
        "                       int(input(\"Enter coordinate x3->\")),\\\n",
        "                       int(input(\"Enter coordinate y3->\")),\\\n",
        "                       int(input(\"Enter coordinate x4->\"))\n",
        "if(x1>x4)or (x3>x2):\n",
        "    print(\"Do not intersect\")\n",
        "else :\n",
        "    left=max(x1, x2)\n",
        "    right=min(x2, x4)\n",
        "    top=min(y1, y3)\n",
        "    bottom=0\n",
        "    if left >= right or top <= bottom:\n",
        "        print (\"Do not intersect\")\n",
        "    else :\n",
        "        print(f\"Result is {(right-left)*(top-bottom)}\")\n"
      ],
      "metadata": {
        "id": "DDBPIP4OxSBp"
      },
      "execution_count": null,
      "outputs": []
    },
    {
      "cell_type": "markdown",
      "source": [
        "Задание 4:\n",
        "Даны два прямоугольника, стороны которых параллельны или перпендикулярны осям координат. Известны координаты левого нижнего угла каждого из них и длины их сторон. Найти координаты левого нижнего и правого верхнего углов минимального прямоугольника, содержащего указанные прямоугольники."
      ],
      "metadata": {
        "id": "L-uX-CsMxfCr"
      }
    },
    {
      "cell_type": "code",
      "source": [
        "x1, y1, w1, h1 = int(input(\"Enter x1 -> \")), \\\n",
        "                   int(input(\"Enter y1 -> \")), \\\n",
        "                   int(input(\"Enter width1 -> \")), \\\n",
        "                   int(input(\"Enter height1 -> \"))\n",
        "\n",
        "x2, y2, w2, h2 = int(input(\"Enter x2 -> \")), \\\n",
        "                   int(input(\"Enter y2 -> \")), \\\n",
        "                   int(input(\"Enter width2 -> \")), \\\n",
        "                   int(input(\"Enter height2 -> \"))\n",
        "min_x = min(x1, x2)\n",
        "min_y = min(y1, y2)\n",
        "max_x = max(x1 + w1, x2 + w2)\n",
        "max_y = max(y1 + h1, y2 + h2)\n",
        "\n",
        "print(f\"Coordinates if minimal rectangle: \\\n",
        "({min_x}, {min_y}, {max_x}, {max_y})\\n\")\n",
        "\n"
      ],
      "metadata": {
        "id": "-rNZBn1axi04"
      },
      "execution_count": null,
      "outputs": []
    },
    {
      "cell_type": "markdown",
      "source": [
        "Задание 5:\n",
        "Поле шахматной доски определяется парой натуральных чисел, каждое из которых не превосходит 8: первое число — номер вертикали (при счете слева направо), второе — номер горизонтали (при счете снизу вверх). Даны натуральные числа a, b, c, d, каждое из которых не превосходит 8.\n",
        "На поле (a, b) расположена черная пешка. Определить, может ли она одним ходом попасть на поле (c, d): при обычном ходе;  когда она \"бьет\" фигуру или пешку соперника;\n",
        "Примечание. Черные пешки перемещаются на доске сверху вниз.\n"
      ],
      "metadata": {
        "id": "rUVmsy9uxlbk"
      }
    },
    {
      "cell_type": "code",
      "source": [
        "a, b = int(input(\"Enter a -> \")), int(input(\"Enter b -> \"))\n",
        "c, d = int(input(\"Enter c -> \")), int(input(\"Enter d -> \"))\n",
        "normal_move = (a == c and b - 1 == d)\n",
        "capture_move = (abs(a - c) == 1 and b - 1 == d)\n",
        "if normal_move:\n",
        "    print(\"Yes, normal move\")\n",
        "elif capture_move:\n",
        "    print(\"Bite it\")\n",
        "else:\n",
        "    print(\"No, move not possible\")\n"
      ],
      "metadata": {
        "id": "6Wss-Oj8xqXH"
      },
      "execution_count": null,
      "outputs": []
    },
    {
      "cell_type": "markdown",
      "source": [
        "Блок 3\n",
        "\n",
        "\n",
        "Задание 1:\n",
        "\tПокупатель должен заплатить в кассу S р.У него имеются 1, 5, ,10, 50, 100, 500, 1000 и 10000р.Сколько купюр разного достоинства отдаст покупатель, если он начинает платить с самых крупных купюр"
      ],
      "metadata": {
        "id": "APSUmOYXxuJV"
      }
    },
    {
      "cell_type": "code",
      "source": [
        "sum1=int(input(\"Enter sum\"))\n",
        "money_с=[10000, 1000,500,100,50,10,5,1]\n",
        "money_count={}\n",
        "for money in money_с:\n",
        "    if sum1>=money:\n",
        "        money_count[money]=sum1//money\n",
        "        sum1%=money\n",
        "\n",
        "print(\"Result is :\")\n",
        "for i in money_count:\n",
        "    print(i, money_count[i])\n"
      ],
      "metadata": {
        "id": "rFcLQOzXzB-S",
        "colab": {
          "base_uri": "https://localhost:8080/"
        },
        "outputId": "2467b18b-c2bd-4b94-b62f-116310b31e09"
      },
      "execution_count": null,
      "outputs": [
        {
          "output_type": "stream",
          "name": "stdout",
          "text": [
            "Enter sum5300\n",
            "Result is :\n",
            "1000 5\n",
            "100 3\n"
          ]
        }
      ]
    },
    {
      "cell_type": "markdown",
      "source": [
        "Задание 2:\n",
        "  Дано натуральное п. Вычислить:\n",
        "  S=1⋅2+2⋅3+3⋅4+⋯+n⋅(n+1)⋅2n\n",
        "\n"
      ],
      "metadata": {
        "id": "fQVD8E8OzC7g"
      }
    },
    {
      "cell_type": "code",
      "source": [
        "n = int(input(\"enter natural num n: \"))\n",
        "S = 0\n",
        "for i in range(1, n + 1):\n",
        "    S += i * (i + 1) * (2 * i)\n",
        "print(\" S:\", S)"
      ],
      "metadata": {
        "id": "3g5gXnwpzO2g"
      },
      "execution_count": null,
      "outputs": []
    },
    {
      "cell_type": "markdown",
      "source": [
        "Задание 3:\n",
        "\n",
        "\n",
        "![Снимок экрана 2025-03-18 105540.png](data:image/png;base64,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)"
      ],
      "metadata": {
        "id": "MlDE7M1lPh2P"
      }
    },
    {
      "cell_type": "code",
      "source": [
        "from math import *\n",
        "eps=float(1e-3)\n",
        "a_pr=0\n",
        "flag=1\n",
        "n=1\n",
        "seq=[a_pr]\n",
        "while flag:\n",
        "    a_cur=atan(a_pr)+1\n",
        "    seq.append(a_cur)\n",
        "    if abs(a_pr-a_cur)<eps:\n",
        "      flag=0\n",
        "    a_pr=a_cur\n",
        "    n+=1\n",
        "print(f\"The num of lowest number is {n}\\n\")\n",
        "for i in range(n):\n",
        "    print(f\"{seq[i]}\\n\")"
      ],
      "metadata": {
        "id": "wSTKcYWWQKJf"
      },
      "execution_count": null,
      "outputs": []
    },
    {
      "cell_type": "markdown",
      "source": [
        "Задание 4:\n",
        "  Дано целое число K и набор ненулевых целых чисел; признак его завершения — число 0. Вывести количество чисел в наборе, меньших K.\n",
        "\n"
      ],
      "metadata": {
        "id": "le_da9k4aNQs"
      }
    },
    {
      "cell_type": "code",
      "source": [
        "k=int(input(\"Enter k\"))\n",
        "seq = map(int, input(\"It should be ended with num 0!\").split())\n",
        "count = 0\n",
        "for i in seq:\n",
        "  if k>i and i!=0:\n",
        "    count+=1\n",
        "print(count)\n"
      ],
      "metadata": {
        "colab": {
          "base_uri": "https://localhost:8080/"
        },
        "id": "pmh08T0Cv8FR",
        "outputId": "95b9e2f0-f146-4496-c5b0-df75dec96b36"
      },
      "execution_count": null,
      "outputs": [
        {
          "output_type": "stream",
          "name": "stdout",
          "text": [
            "Enter k5\n",
            "It should be ended with num 0!-3 -2 4 5 6 0\n",
            "3\n"
          ]
        }
      ]
    },
    {
      "cell_type": "markdown",
      "source": [
        "Блок 4:\n",
        "\n",
        "Задание 1:\n",
        "  Найти все натуральные четырехзначные числа, цифры в которых образуют строго возрастающую последовательность (например, 1234, 5789)."
      ],
      "metadata": {
        "id": "6sK9BhA5yQu6"
      }
    },
    {
      "cell_type": "code",
      "source": [
        "for i in range(1000, 10000):\n",
        "  n1=i//1000\n",
        "  n2=(i//100)%10\n",
        "  n3=i%100//10\n",
        "  n4=i%10\n",
        "  if n1<n2<n3<n4 :\n",
        "    print(i)\n",
        "\n"
      ],
      "metadata": {
        "colab": {
          "base_uri": "https://localhost:8080/"
        },
        "id": "-wJ1s4O2ym-u",
        "outputId": "d4e5e3f9-93bb-49a9-b33a-0e6542a82cc6"
      },
      "execution_count": null,
      "outputs": [
        {
          "output_type": "stream",
          "name": "stdout",
          "text": [
            "1234\n",
            "1235\n",
            "1236\n",
            "1237\n",
            "1238\n",
            "1239\n",
            "1245\n",
            "1246\n",
            "1247\n",
            "1248\n",
            "1249\n",
            "1256\n",
            "1257\n",
            "1258\n",
            "1259\n",
            "1267\n",
            "1268\n",
            "1269\n",
            "1278\n",
            "1279\n",
            "1289\n",
            "1345\n",
            "1346\n",
            "1347\n",
            "1348\n",
            "1349\n",
            "1356\n",
            "1357\n",
            "1358\n",
            "1359\n",
            "1367\n",
            "1368\n",
            "1369\n",
            "1378\n",
            "1379\n",
            "1389\n",
            "1456\n",
            "1457\n",
            "1458\n",
            "1459\n",
            "1467\n",
            "1468\n",
            "1469\n",
            "1478\n",
            "1479\n",
            "1489\n",
            "1567\n",
            "1568\n",
            "1569\n",
            "1578\n",
            "1579\n",
            "1589\n",
            "1678\n",
            "1679\n",
            "1689\n",
            "1789\n",
            "2345\n",
            "2346\n",
            "2347\n",
            "2348\n",
            "2349\n",
            "2356\n",
            "2357\n",
            "2358\n",
            "2359\n",
            "2367\n",
            "2368\n",
            "2369\n",
            "2378\n",
            "2379\n",
            "2389\n",
            "2456\n",
            "2457\n",
            "2458\n",
            "2459\n",
            "2467\n",
            "2468\n",
            "2469\n",
            "2478\n",
            "2479\n",
            "2489\n",
            "2567\n",
            "2568\n",
            "2569\n",
            "2578\n",
            "2579\n",
            "2589\n",
            "2678\n",
            "2679\n",
            "2689\n",
            "2789\n",
            "3456\n",
            "3457\n",
            "3458\n",
            "3459\n",
            "3467\n",
            "3468\n",
            "3469\n",
            "3478\n",
            "3479\n",
            "3489\n",
            "3567\n",
            "3568\n",
            "3569\n",
            "3578\n",
            "3579\n",
            "3589\n",
            "3678\n",
            "3679\n",
            "3689\n",
            "3789\n",
            "4567\n",
            "4568\n",
            "4569\n",
            "4578\n",
            "4579\n",
            "4589\n",
            "4678\n",
            "4679\n",
            "4689\n",
            "4789\n",
            "5678\n",
            "5679\n",
            "5689\n",
            "5789\n",
            "6789\n"
          ]
        }
      ]
    },
    {
      "cell_type": "markdown",
      "source": [
        "Задание 2:\n",
        "\n",
        "\n",
        "2.\tДаны две дроби A/B и C/D (А, В, С, D — натуральные числа). Составить функцию умножения дроби на дробь. Ответ должен быть несократимой дробью.\n"
      ],
      "metadata": {
        "id": "ubP7LBa30ooQ"
      }
    },
    {
      "cell_type": "code",
      "source": [
        "a,b,c,d=int(input(\"Enter A \")),\\\n",
        "          int(input(\"Enter B \")),\\\n",
        "          int(input(\"Enter C \")),\\\n",
        "          int(input(\"Enter D\"))\n",
        "numerator=a*c\n",
        "denumerator= b*d\n",
        "for i in range(min(numerator, denumerator), 0, -1):\n",
        "  if numerator%i==0 and denumerator%i==0:\n",
        "    numerator//=i\n",
        "    denumerator//=i\n",
        "print(f\"Result is {numerator}/{denumerator}\")\n"
      ],
      "metadata": {
        "colab": {
          "base_uri": "https://localhost:8080/"
        },
        "id": "h2er_C-c0uQN",
        "outputId": "fa65997f-3a58-47c6-9aa0-5098866d9d20"
      },
      "execution_count": null,
      "outputs": [
        {
          "output_type": "stream",
          "name": "stdout",
          "text": [
            "Enter A 3\n",
            "Enter B 4\n",
            "Enter C 5\n",
            "Enter D5\n",
            "Result is 3/4\n"
          ]
        }
      ]
    },
    {
      "cell_type": "markdown",
      "source": [
        "Задание 3:\n",
        "  \n",
        "  Дано n различных натуральных чисел. Напечатать все перестановки этих чисел."
      ],
      "metadata": {
        "id": "WTg3l6c938y9"
      }
    },
    {
      "cell_type": "code",
      "source": [
        "from itertools import *\n",
        "n=int(input(\"n->\"))\n",
        "array=[]\n",
        "for i in range(n):\n",
        "  a=int(input())\n",
        "  array.append(a)\n",
        "for x in permutations(array):\n",
        "  print(x)\n"
      ],
      "metadata": {
        "colab": {
          "base_uri": "https://localhost:8080/"
        },
        "id": "spzzQL6e4FN4",
        "outputId": "53b4e8de-4e0b-4156-caf8-82b967401d61"
      },
      "execution_count": null,
      "outputs": [
        {
          "output_type": "stream",
          "name": "stdout",
          "text": [
            "n->3\n",
            "1\n",
            "2\n",
            "3\n",
            "(1, 2, 3)\n",
            "(1, 3, 2)\n",
            "(2, 1, 3)\n",
            "(2, 3, 1)\n",
            "(3, 1, 2)\n",
            "(3, 2, 1)\n"
          ]
        }
      ]
    }
  ]
}