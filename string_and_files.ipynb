{
  "nbformat": 4,
  "nbformat_minor": 0,
  "metadata": {
    "colab": {
      "provenance": [],
      "authorship_tag": "ABX9TyMTSlHWTlGrRy9UL0hJDI0U",
      "include_colab_link": true
    },
    "kernelspec": {
      "name": "python3",
      "display_name": "Python 3"
    },
    "language_info": {
      "name": "python"
    }
  },
  "cells": [
    {
      "cell_type": "markdown",
      "metadata": {
        "id": "view-in-github",
        "colab_type": "text"
      },
      "source": [
        "<a href=\"https://colab.research.google.com/github/Dan3ka/danka_python/blob/main/string_and_files.ipynb\" target=\"_parent\"><img src=\"https://colab.research.google.com/assets/colab-badge.svg\" alt=\"Open In Colab\"/></a>"
      ]
    },
    {
      "cell_type": "markdown",
      "source": [
        "Блок задач на модули и строки\n"
      ],
      "metadata": {
        "id": "vQivPu9URn_t"
      }
    },
    {
      "cell_type": "markdown",
      "source": [
        "Задание 1:\n",
        "\n",
        " Дана последовательность слов. Напечатать все слова, предварительно преобразовав каждое из них по следующему правилу: удалить из слова все предыдущие вхождения последней буквы."
      ],
      "metadata": {
        "id": "7ebM5qNDR5CP"
      }
    },
    {
      "cell_type": "code",
      "execution_count": null,
      "metadata": {
        "colab": {
          "base_uri": "https://localhost:8080/"
        },
        "id": "UpcCBhsvRkdW",
        "outputId": "bac47a56-1915-414f-b280-b51fd72060ad"
      },
      "outputs": [
        {
          "output_type": "stream",
          "name": "stdout",
          "text": [
            "['мшин', 'крсот', 'ово'] "
          ]
        }
      ],
      "source": [
        "def delete_by_last_symbol(str_list):\n",
        "  new_str_list = []\n",
        "  for word in str_list:\n",
        "    last_let = word[-1]\n",
        "    new_word = word.replace(last_let, \"\")\n",
        "    new_str_list.append(new_word)\n",
        "  return new_str_list\n",
        "\n",
        "arr = [\"машина\", \"красота\", \"довод\"]\n",
        "res = delete_by_last_symbol(arr)\n",
        "print(res, end=\" \")"
      ]
    },
    {
      "cell_type": "markdown",
      "source": [
        "Задание 2:\n",
        "\n",
        "Дана строка символов, среди которых есть одна открывающаяся и одна закрывающаяся скобка. Вывести на экран все символы, расположенные внутри этих скобок."
      ],
      "metadata": {
        "id": "mvMrkjDZYiwz"
      }
    },
    {
      "cell_type": "code",
      "source": [
        "def return_inside_blocks(strlist):\n",
        "  start = strlist.find(\"(\")\n",
        "  end = strlist.find(\")\")\n",
        "  new_str = strlist[start+1:end]\n",
        "  return new_str\n",
        "\n",
        "mu_str = \" kkkf f (print this str) kfkfk\"\n",
        "res = return_inside_blocks(mu_str)\n",
        "print(res, end=\" \")"
      ],
      "metadata": {
        "colab": {
          "base_uri": "https://localhost:8080/"
        },
        "id": "hDU3CMVAYpZG",
        "outputId": "77113eee-99a5-4480-8b46-aa1a1a58c577"
      },
      "execution_count": null,
      "outputs": [
        {
          "output_type": "stream",
          "name": "stdout",
          "text": [
            "print this str "
          ]
        }
      ]
    },
    {
      "cell_type": "markdown",
      "source": [
        "Задание 3:\n",
        "\n",
        "\n",
        "В символьном массиве хранятся фамилии и инициалы учеников класса. Требуется напечатать список класса с указанием для каждого ученика количества его однофамильцев.\n"
      ],
      "metadata": {
        "id": "_xUspolMb9Zy"
      }
    },
    {
      "cell_type": "code",
      "source": [
        "def count_same(arr):\n",
        "  for i in range(len(arr)):\n",
        "    fam = arr[i].split()[0]\n",
        "    count = 0\n",
        "    for j in range(len(arr)):\n",
        "      if arr[j].split()[0] == fam and i != j:\n",
        "        count += 1\n",
        "    print(arr[i], count)\n",
        "\n",
        "arr = [\"Иванов В.Р\", \"Петров П.Д\", \"Иванов С.В\", \"Сидоров А.И\", \"Петров Р.С\"]\n",
        "count_same(arr)"
      ],
      "metadata": {
        "colab": {
          "base_uri": "https://localhost:8080/"
        },
        "id": "39GTOecBcDMu",
        "outputId": "2850424c-e4bf-422f-b723-aec928abcc71"
      },
      "execution_count": null,
      "outputs": [
        {
          "output_type": "stream",
          "name": "stdout",
          "text": [
            "Иванов В.Р 1\n",
            "Петров П.Д 1\n",
            "Иванов С.В 1\n",
            "Сидоров А.И 0\n",
            "Петров Р.С 1\n"
          ]
        }
      ]
    },
    {
      "cell_type": "markdown",
      "source": [
        "Блок 2 задачи на файлы"
      ],
      "metadata": {
        "id": "Q5hRBWdZe4Rv"
      }
    },
    {
      "cell_type": "markdown",
      "source": [
        "Задание 1:\n",
        "\n",
        "Заполнить файл f целыми числами, полученными с помощью генератора случайных чисел. Из файла f получить файл g, исключив повторные вхождения чисел. Порядок следования чисел сохранить."
      ],
      "metadata": {
        "id": "vUyOou83e60h"
      }
    },
    {
      "cell_type": "code",
      "source": [
        "from random import *\n",
        "with open(\"f.txt\", \"w\") as file:\n",
        "  for i in range(0,10):\n",
        "    file.write(str(int((random()*10))))\n",
        "    file.write(\" \")\n",
        "g_file=open(\"g.txt\", \"w\")\n",
        "f_file=open(\"f.txt\", \"r\")\n",
        "line=f_file.read().strip()\n",
        "nums=line.split()\n",
        "new_arr=[]\n",
        "for elem in nums:\n",
        "  if elem not in new_arr:\n",
        "    new_arr.append(elem)\n",
        "g_file.write(str(new_arr))\n",
        "g_file.close()\n",
        "f_file.close()\n",
        "\n",
        "\n",
        "\n",
        "\n"
      ],
      "metadata": {
        "id": "VBPLcA0Me98-"
      },
      "execution_count": null,
      "outputs": []
    },
    {
      "cell_type": "markdown",
      "source": [
        "Задание 2:\n",
        "\n",
        "Дан файл Assort, содержащий сведения об игрушках: указывается название игрушки, ее стоимость в рублях и возрастные границы (например, игрушка может предназначаться для детей от двух до пяти лет). Напечатать название наиболее дорогих игрушек (цена которых отличается от цены самой дорогой игрушки не более, чем на 5 тыс. р.)."
      ],
      "metadata": {
        "id": "jbQRxJo3UDQ7"
      }
    },
    {
      "cell_type": "code",
      "source": [
        "def the_list_of_exp_toys():\n",
        "    with open(\"assort.txt\", \"r\") as file:\n",
        "        info = []\n",
        "        exp_toys = []\n",
        "\n",
        "        for line in file:\n",
        "            data = line.strip().split(';')\n",
        "            info.append(data)\n",
        "\n",
        "        max_count = max(int(item[1].strip()) for item in info)\n",
        "\n",
        "        for toy in info:\n",
        "            price = int(toy[1].strip())\n",
        "            if max_count - price <= 5000:\n",
        "                exp_toys.append(toy)\n",
        "\n",
        "    return exp_toys\n",
        "\n",
        "res_toy = the_list_of_exp_toys()\n",
        "for toy in res_toy:\n",
        "    print(toy[0], end=\" \")\n",
        "\n",
        "\"\"\"\n",
        "assort.txt\n",
        "Кукла Алина; 4500; 3-6\n",
        "Конструктор Lego; 12500; 5-12\n",
        "Электромобиль; 2300; 3-8\n",
        "Набор доктора; 3800; 4-7\n",
        "Железная дорога; 12000; 6-10\n",
        "Кукла Маша; 5000; 3-6\n",
        "Робот-трансформер; 12800; 7-14\n",
        "Набор художника; 4200; 5-9\n",
        "\"\"\""
      ],
      "metadata": {
        "id": "8vsJsor-UY4y",
        "colab": {
          "base_uri": "https://localhost:8080/",
          "height": 91
        },
        "outputId": "cbed98f4-4b7a-4adc-da23-88badcf42231"
      },
      "execution_count": 7,
      "outputs": [
        {
          "output_type": "stream",
          "name": "stdout",
          "text": [
            "Конструктор Lego Железная дорога Робот-трансформер "
          ]
        },
        {
          "output_type": "execute_result",
          "data": {
            "text/plain": [
              "'\\nassort.txt\\nКукла Алина; 4500; 3-6\\nКонструктор Lego; 12500; 5-12\\nЭлектромобиль; 2300; 3-8\\nНабор доктора; 3800; 4-7\\nЖелезная дорога; 12000; 6-10\\nКукла Маша; 5000; 3-6\\nРобот-трансформер; 12800; 7-14\\nНабор художника; 4200; 5-9\\n'"
            ],
            "application/vnd.google.colaboratory.intrinsic+json": {
              "type": "string"
            }
          },
          "metadata": {},
          "execution_count": 7
        }
      ]
    },
    {
      "cell_type": "markdown",
      "source": [
        "Задание 3:\n",
        "\n",
        "Дан файл, содержащий текст на русском языке и некоторая буква. Найти слово, содержащее наибольшее количество указанных букв."
      ],
      "metadata": {
        "id": "rVJv0FEKUZbu"
      }
    },
    {
      "cell_type": "code",
      "source": [
        "in_file=open(\"input.txt\", \"r\")\n",
        "lines=in_file.readlines()\n",
        "letter=lines[0].strip()\n",
        "max_count=0\n",
        "result=None\n",
        "\n",
        "for line in lines[1:]:\n",
        "  words=line.strip().split()\n",
        "  for word in words:\n",
        "    clean_word=' '.join(c for c in word if c.isalpha()).lower()\n",
        "    count=clean_word.count(letter)\n",
        "    if count>max_count:\n",
        "      max_count=count\n",
        "      result=clean_word\n",
        "print(f\"Result is {result}\")\n",
        "print(max_count, end=\" \")\n",
        "in_file.close()\n",
        "\n"
      ],
      "metadata": {
        "id": "TDE8fVLvUecM",
        "colab": {
          "base_uri": "https://localhost:8080/"
        },
        "outputId": "f4abb86a-0900-4dc6-dd96-69c4cbd810b1"
      },
      "execution_count": null,
      "outputs": [
        {
          "output_type": "stream",
          "name": "stdout",
          "text": [
            "Result is о б о р о н о с п о с о б н о с т ь\n",
            "7 "
          ]
        }
      ]
    },
    {
      "cell_type": "code",
      "source": [],
      "metadata": {
        "id": "b1u4cAZ6PABg"
      },
      "execution_count": null,
      "outputs": []
    }
  ]
}