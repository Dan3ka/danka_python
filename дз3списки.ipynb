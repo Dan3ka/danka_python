{
  "nbformat": 4,
  "nbformat_minor": 0,
  "metadata": {
    "colab": {
      "provenance": [],
      "authorship_tag": "ABX9TyMTEsYsM79xTV0/JdgMrgls",
      "include_colab_link": true
    },
    "kernelspec": {
      "name": "python3",
      "display_name": "Python 3"
    },
    "language_info": {
      "name": "python"
    }
  },
  "cells": [
    {
      "cell_type": "markdown",
      "metadata": {
        "id": "view-in-github",
        "colab_type": "text"
      },
      "source": [
        "<a href=\"https://colab.research.google.com/github/Dan3ka/danka_python/blob/main/%D0%B4%D0%B73%D1%81%D0%BF%D0%B8%D1%81%D0%BA%D0%B8.ipynb\" target=\"_parent\"><img src=\"https://colab.research.google.com/assets/colab-badge.svg\" alt=\"Open In Colab\"/></a>"
      ]
    },
    {
      "cell_type": "markdown",
      "source": [
        "Вариант 13\n",
        "\n",
        " Хасанова Дана\n",
        "\n",
        " задача 1:\n",
        " 1.\tЕсть ли в данном массиве элемент, равный заданному числу? Если есть, то вывести номер одного из них."
      ],
      "metadata": {
        "id": "TAwk3uy-4zsy"
      }
    },
    {
      "cell_type": "code",
      "source": [
        "a= list(map(int, input().split()))\n",
        "num=int(input(\"Enter n \"))\n",
        "for elem in a:\n",
        "  if elem==num:\n",
        "    print(a.index(elem))"
      ],
      "metadata": {
        "id": "9xtnku3S42LB",
        "colab": {
          "base_uri": "https://localhost:8080/"
        },
        "outputId": "1b40844b-11fd-4a54-e360-fb56527dafcf"
      },
      "execution_count": null,
      "outputs": [
        {
          "output_type": "stream",
          "name": "stdout",
          "text": [
            "1 2 3 4 5\n",
            "Enter n 5\n",
            "4\n"
          ]
        }
      ]
    },
    {
      "cell_type": "markdown",
      "source": [
        "задача 2:\n",
        "\n",
        "  Дан массив A размера N (N — нечетное число). Вывести его элементы с нечетными номерами в порядке убывания номеров: AN, AN–2, AN–4, …, A1. Условный оператор не использовать."
      ],
      "metadata": {
        "id": "q8KPEPXrTdUh"
      }
    },
    {
      "cell_type": "code",
      "source": [
        "a=list(map(int, input(\"Введите нечетное число элементов\").split()))\n",
        "for i in range(len(a)-2,-1,-2):\n",
        "  print(a[i], end=\" \")\n"
      ],
      "metadata": {
        "colab": {
          "base_uri": "https://localhost:8080/"
        },
        "collapsed": true,
        "id": "7CGrdyBZTmKc",
        "outputId": "bb3990f0-1c4c-4446-ea8d-b7f86ab7d565"
      },
      "execution_count": null,
      "outputs": [
        {
          "output_type": "stream",
          "name": "stdout",
          "text": [
            "Введите нечетное число элементов1 2 3 4 5\n",
            "4 2 "
          ]
        }
      ]
    },
    {
      "cell_type": "markdown",
      "source": [
        "задача 3.\n",
        "\n",
        "Дан массив A размера N и целое число K (1  K  4, K < N). Осуществить циклический сдвиг элементов массива вправо на K позиций (при этом A1 перейдет в AK+1, A2 — в AK+2, …, AN — в AK). Допускается использовать вспомогательный массив из 4 элементов."
      ],
      "metadata": {
        "id": "BDR8A6_ZYnGW"
      }
    },
    {
      "cell_type": "code",
      "source": [
        "a=[]\n",
        "n=int(input())\n",
        "for i in range(0,n):\n",
        "  a.append(int(input()))\n",
        "k=int(input(\"Enter k, in range 1<=k<=4\"))\n",
        "temp=a[n-k:]\n",
        "for i in range(n-1, k-1, -1):\n",
        "  a[i]=a[i-k]\n",
        "for i in range(k):\n",
        "  a[i]=temp[i]\n",
        "for i in range(0,n):\n",
        "  print(a[i], end=\" \")\n",
        "\n",
        "\n"
      ],
      "metadata": {
        "id": "0wGwkbLDY0vS"
      },
      "execution_count": null,
      "outputs": []
    },
    {
      "cell_type": "markdown",
      "source": [
        "Задача 4:\n",
        "\n",
        "Дан целочисленный двумерный массив, размерности n х m. Вывести на экран элементы, которые являются квадратами какого-либо числа.\n"
      ],
      "metadata": {
        "id": "0ZwJltlq3pPH"
      }
    },
    {
      "cell_type": "code",
      "source": [
        "import math\n",
        "\n",
        "n=int(input(\"Enter n \"))\n",
        "m=int(input(\"Enter m \"))\n",
        "a=[]\n",
        "for i in range(n):\n",
        "  row=list(map(int, input(\"Enter elements \").split()))\n",
        "  a.append(row)\n",
        "print(\"Result:\\n\")\n",
        "for i in range(n):\n",
        "  for j in range(m):\n",
        "    num=a[i][j]\n",
        "    root=math.sqrt(num)\n",
        "    if root==int(root):\n",
        "      print(num, end=\" \")"
      ],
      "metadata": {
        "id": "uAAVYLU77kqJ"
      },
      "execution_count": null,
      "outputs": []
    },
    {
      "cell_type": "markdown",
      "source": [
        "Блок задач №2"
      ],
      "metadata": {
        "id": "jZz0GEac_3Pr"
      }
    },
    {
      "cell_type": "markdown",
      "source": [
        "Dictionary:\n",
        "\n",
        "Задание 1.\n",
        "\n",
        "Подсчет частоты слов: Напишите функцию, которая принимает строку и возвращает словарь, где ключи — это слова, а значения — их частота в строке.\n"
      ],
      "metadata": {
        "id": "MEEvwBe7AAgM"
      }
    },
    {
      "cell_type": "code",
      "source": [
        "def word_frequency(text):\n",
        "    words = list(map(str, text.lower().split()))\n",
        "    freq = {}\n",
        "    for i in words:\n",
        "        if i in freq:\n",
        "            freq[i] += 1\n",
        "        else:\n",
        "            freq[i] = 1\n",
        "    return freq\n",
        "\n",
        "text = input(\"Введите строку: \")\n",
        "result = word_frequency(text)\n",
        "print(result)"
      ],
      "metadata": {
        "colab": {
          "base_uri": "https://localhost:8080/"
        },
        "id": "jnaDl0pz__t6",
        "outputId": "9c2e20d9-90f6-4590-9c5f-c0b7c9e2c6f2"
      },
      "execution_count": null,
      "outputs": [
        {
          "output_type": "stream",
          "name": "stdout",
          "text": [
            "Enter the stringcat dog cat \n",
            "{'cat': 2, 'dog': 1}\n"
          ]
        }
      ]
    },
    {
      "cell_type": "markdown",
      "source": [
        "Задание 2:\n",
        "\n",
        "Инвертирование словаря: Напишите функцию, которая принимает словарь и возвращает новый словарь, где ключи и значения поменяны местами. Если значения не уникальны, объедините ключи в список."
      ],
      "metadata": {
        "id": "SyMNCnvOW-Rr"
      }
    },
    {
      "cell_type": "code",
      "source": [
        "def invert_dict(origin):\n",
        "  inverted={}\n",
        "  for k, v in origin.items():\n",
        "    if v in inverted:\n",
        "      inverted[v].append(k)\n",
        "    else :\n",
        "      inverted[v]=[k]\n",
        "  return inverted\n",
        "origin= {\"a\": 1, \"b\": 2, \"c\": 1}\n",
        "res=invert_dict(origin)\n",
        "print(res)"
      ],
      "metadata": {
        "colab": {
          "base_uri": "https://localhost:8080/"
        },
        "id": "3pS7xqeEXFFJ",
        "outputId": "29e01c19-0f4f-49da-f32e-a038bea38d87"
      },
      "execution_count": null,
      "outputs": [
        {
          "output_type": "stream",
          "name": "stdout",
          "text": [
            "{1: ['a', 'c'], 2: ['b']}\n"
          ]
        }
      ]
    },
    {
      "cell_type": "markdown",
      "source": [
        "Задание 3:\n",
        "\n",
        "Слияние словарей: Напишите функцию, которая принимает два словаря и возвращает новый словарь, содержащий все ключи из обоих словарей. Если ключи совпадают, значения должны быть суммированы."
      ],
      "metadata": {
        "id": "QnCMpNa_b16p"
      }
    },
    {
      "cell_type": "code",
      "source": [
        "def union_dict(dict1, dict2):\n",
        "  new_dict=dict1.copy()\n",
        "  for k, value in dict2.items():\n",
        "    if k in new_dict:\n",
        "      new_dict[k]=new_dict[k]+value\n",
        "    else :\n",
        "      new_dict[k]=value\n",
        "  return new_dict\n",
        "\n",
        "dict1 = {\"apple\": 3, \"dog\": 5,  \"elderberry\": 5}\n",
        "dict2 = {\"cat\": 1, \"dog\": 2,\"rabbit\": 1}\n",
        "res=union_dict(dict1, dict2)\n",
        "print(res)"
      ],
      "metadata": {
        "colab": {
          "base_uri": "https://localhost:8080/"
        },
        "id": "stDUNM3eb-S7",
        "outputId": "0b201ef0-f7e6-40df-9e0b-a4340d922cd6"
      },
      "execution_count": null,
      "outputs": [
        {
          "output_type": "stream",
          "name": "stdout",
          "text": [
            "{'apple': 3, 'dog': 7, 'elderberry': 5, 'cat': 1, 'rabbit': 1}\n"
          ]
        }
      ]
    },
    {
      "cell_type": "markdown",
      "source": [
        "Задача 4:\n",
        "\n",
        "Фильтрация по значению: Напишите функцию, которая принимает словарь и пороговое значение, и возвращает новый словарь, содержащий только те пары ключ-значение, где значение больше порогового."
      ],
      "metadata": {
        "id": "-aTP0caPhloM"
      }
    },
    {
      "cell_type": "code",
      "source": [
        "def filter_dict(dict, num):\n",
        "  new_dict={}\n",
        "  for key, value in dict.items():\n",
        "    if dict[key]>num:\n",
        "      new_dict[key]=value\n",
        "  return new_dict\n",
        "\n",
        "dict= {\"a\": 5, \"b\": 6, \"c\": 0}\n",
        "res=filter_dict(dict, 4)\n",
        "print(res)"
      ],
      "metadata": {
        "colab": {
          "base_uri": "https://localhost:8080/"
        },
        "id": "co6CjI8Thudw",
        "outputId": "44fc9be7-c321-4c35-9ef2-789384fc7858"
      },
      "execution_count": null,
      "outputs": [
        {
          "output_type": "stream",
          "name": "stdout",
          "text": [
            "{'a': 5, 'b': 6}\n"
          ]
        }
      ]
    },
    {
      "cell_type": "markdown",
      "source": [
        "Задача 5:\n",
        "\n",
        "Максимальное значение: Напишите функцию, которая находит ключ с максимальным значением в словаре."
      ],
      "metadata": {
        "id": "N5EHgjukjiGl"
      }
    },
    {
      "cell_type": "code",
      "source": [
        "def find_max(dict):\n",
        "  max_key=None\n",
        "  max_val=float('-inf')\n",
        "  for key, value in dict.items():\n",
        "    if value>max_val:\n",
        "      max_val=value\n",
        "      max_key=key\n",
        "  return max_key\n",
        "dict= {\"a\": 5, \"b\": 6, \"c\": 0}\n",
        "res=find_max(dict);\n",
        "print(res)"
      ],
      "metadata": {
        "colab": {
          "base_uri": "https://localhost:8080/"
        },
        "id": "tTlFZhJmmHHI",
        "outputId": "daafacac-2056-4729-d7e2-5ace1d7bc504"
      },
      "execution_count": null,
      "outputs": [
        {
          "output_type": "stream",
          "name": "stdout",
          "text": [
            "b\n"
          ]
        }
      ]
    },
    {
      "cell_type": "markdown",
      "source": [],
      "metadata": {
        "id": "LaFhA9EBJhDx"
      }
    },
    {
      "cell_type": "markdown",
      "source": [
        "Задание 6:\n",
        "\n",
        "Минимальное значение: Напишите функцию, которая находит ключ с минимальным значением в словаре.\n"
      ],
      "metadata": {
        "id": "wA7__utPJTvh"
      }
    },
    {
      "cell_type": "code",
      "source": [
        "def find_min(dict):\n",
        "  min_key=None\n",
        "  min_val=float('inf')\n",
        "  for key, value in dict.items():\n",
        "    if value < min_val:\n",
        "      min_val=value\n",
        "      min_key=key\n",
        "  return min_key\n",
        "dict= {\"a\": 5, \"b\": 6, \"c\": 0}\n",
        "res=find_min(dict);\n",
        "print(res)"
      ],
      "metadata": {
        "colab": {
          "base_uri": "https://localhost:8080/"
        },
        "id": "Ux8nXzRYJwde",
        "outputId": "93237b07-5218-49d1-8dc1-89e9fe091576"
      },
      "execution_count": null,
      "outputs": [
        {
          "output_type": "stream",
          "name": "stdout",
          "text": [
            "c\n"
          ]
        }
      ]
    },
    {
      "cell_type": "markdown",
      "source": [
        "  Задание 7:\n",
        "  \n",
        "  Удаление ключей: Напишите функцию, которая принимает словарь и список ключей, и удаляет из словаря все указанные ключи.\n",
        "\n"
      ],
      "metadata": {
        "id": "SLmcMMXDJjAS"
      }
    },
    {
      "cell_type": "code",
      "source": [
        "def delete_keys(dictionary, keys_to_remove):\n",
        "    new_dict = dictionary.copy()\n",
        "    for key in keys_to_remove:\n",
        "        if key in new_dict:\n",
        "            new_dict.pop(key)\n",
        "    return new_dict\n",
        "\n",
        "\n",
        "my_dict = {\"a\": 1, \"b\": 2, \"c\": 3, \"d\": 4}\n",
        "keys = [\"a\", \"c\"]\n",
        "result = delete_keys(my_dict, keys)\n",
        "print(result)\n",
        "print(my_dict)"
      ],
      "metadata": {
        "colab": {
          "base_uri": "https://localhost:8080/"
        },
        "id": "hgyJIPxXKl4v",
        "outputId": "0ed9e327-e0bb-491e-989f-56b214298a1a"
      },
      "execution_count": null,
      "outputs": [
        {
          "output_type": "stream",
          "name": "stdout",
          "text": [
            "{'b': 2, 'd': 4}\n",
            "{'a': 1, 'b': 2, 'c': 3, 'd': 4}\n"
          ]
        }
      ]
    },
    {
      "cell_type": "markdown",
      "source": [
        "Задание 8:\n",
        "\n",
        "Группировка по длине ключей: Напишите функцию, которая группирует ключи словаря по их длине и возвращает словарь, где ключи — это длины, а значения — списки ключей соответствующей длины."
      ],
      "metadata": {
        "id": "UgGkxaTmN-3k"
      }
    },
    {
      "cell_type": "code",
      "source": [
        "def group_by_key_len(dict):\n",
        "    new_dict = {}\n",
        "    for key, value in dict.items():\n",
        "        if len(key) in new_dict:\n",
        "            new_dict[len(key)].append(key)\n",
        "        else:\n",
        "            new_dict[len(key)] = [key]\n",
        "    return new_dict\n",
        "\n",
        "dict = {\"cat\": 1, \"dog\": 2, \"bird\": 3, \"fish\": 4}\n",
        "result = group_by_key_len(dict)\n",
        "print(result)\n",
        "\n"
      ],
      "metadata": {
        "colab": {
          "base_uri": "https://localhost:8080/"
        },
        "id": "l7iDPa17QjRg",
        "outputId": "d98820c1-716c-4d7a-b3d3-e70eebcf77c7"
      },
      "execution_count": null,
      "outputs": [
        {
          "output_type": "stream",
          "name": "stdout",
          "text": [
            "{3: ['cat', 'dog'], 4: ['bird', 'fish']}\n"
          ]
        }
      ]
    },
    {
      "cell_type": "markdown",
      "source": [
        "Задание 9:\n",
        "\n",
        "Поиск ключей по значению: Напишите функцию, которая принимает словарь и значение, и возвращает список всех ключей, связанных с этим значением."
      ],
      "metadata": {
        "id": "r0-B7pr9TvIJ"
      }
    },
    {
      "cell_type": "code",
      "source": [
        "def find_key_by_value(dict, val):\n",
        "  list=[]\n",
        "  for key, value in dict.items():\n",
        "    if value==val:\n",
        "      list.append(key)\n",
        "  return list\n",
        "d = {\"a\": 1, \"b\": 2, \"c\": 1}\n",
        "result = find_key_by_value(d, 1)\n",
        "print(result)"
      ],
      "metadata": {
        "colab": {
          "base_uri": "https://localhost:8080/"
        },
        "id": "DR_lvjvAVIQG",
        "outputId": "2815c6e4-0a20-4513-9f74-0abfdee3904e"
      },
      "execution_count": null,
      "outputs": [
        {
          "output_type": "stream",
          "name": "stdout",
          "text": [
            "['a', 'c']\n"
          ]
        }
      ]
    },
    {
      "cell_type": "markdown",
      "source": [
        "Задание 10:\n",
        "\n",
        "Объединение значений: Напишите функцию, которая принимает два словаря и объединяет их значения в списки для каждого ключа.\n",
        "\n"
      ],
      "metadata": {
        "id": "1JLk2avcWB1q"
      }
    },
    {
      "cell_type": "code",
      "source": [
        "def merge_dicts(dict1, dict2):\n",
        "    new_dict = {}\n",
        "    for key, value in dict1.items():\n",
        "        new_dict[key] = [value]\n",
        "    for key, value in dict2.items():\n",
        "        if key in new_dict:\n",
        "            new_dict[key].append(value)\n",
        "        else:\n",
        "            new_dict[key] = [value]\n",
        "    return new_dict\n",
        "\n",
        "dict1 = {\"a\": 1, \"b\": 2, \"c\": 3}\n",
        "dict2 = {\"b\": 5, \"c\": 6, \"d\": 7}\n",
        "res = merge_dicts(dict1, dict2)\n",
        "print(res)"
      ],
      "metadata": {
        "colab": {
          "base_uri": "https://localhost:8080/"
        },
        "id": "65S0w1JZWBa4",
        "outputId": "5fafd889-3bdf-4811-f246-68c5cdf06db3"
      },
      "execution_count": null,
      "outputs": [
        {
          "output_type": "stream",
          "name": "stdout",
          "text": [
            "{'a': [1], 'b': [2, 5], 'c': [3, 6], 'd': [7]}\n"
          ]
        }
      ]
    },
    {
      "cell_type": "markdown",
      "source": [
        "Блок задач на Множества:\n",
        "\n",
        "Задача 1:\n",
        "\n",
        "Создание множества из списка: Напишите функцию, которая принимает список и возвращает множество, содержащее уникальные элементы списка."
      ],
      "metadata": {
        "id": "nxCWrr-wjhux"
      }
    },
    {
      "cell_type": "code",
      "source": [
        "def create_set_from_list(lit):\n",
        "  set=[]\n",
        "  for elem in lit:\n",
        "      if elem not in set:\n",
        "        set.append(elem)\n",
        "  return set\n",
        "\n",
        "lit=[1,2,3,4,5,6,4,4,1,2]\n",
        "\n",
        "res=create_set_from_list(lit)\n",
        "print(lit, end=\" \")\n",
        "print()\n",
        "print(res, end=\" \")"
      ],
      "metadata": {
        "colab": {
          "base_uri": "https://localhost:8080/"
        },
        "id": "BrjthqkMjsfa",
        "outputId": "f5a244cc-312f-4ce1-a6bc-116637a47176"
      },
      "execution_count": null,
      "outputs": [
        {
          "output_type": "stream",
          "name": "stdout",
          "text": [
            "[1, 2, 3, 4, 5, 6, 4, 4, 1, 2] \n",
            "[1, 2, 3, 4, 5, 6] "
          ]
        }
      ]
    },
    {
      "cell_type": "markdown",
      "source": [
        "Задание 2:\n",
        "\n",
        "Удаление дубликатов: Напишите функцию, которая удаляет дубликаты из списка с помощью множества и возвращает новый список."
      ],
      "metadata": {
        "id": "keWxwlhklav7"
      }
    },
    {
      "cell_type": "code",
      "source": [
        "def remove_duplicates(lit):\n",
        "    set = create_set_from_list(lit)\n",
        "    res = []\n",
        "    for elem in set:\n",
        "        res.append(elem)\n",
        "    return res\n",
        "\n",
        "lit = [1, 2, 3, 2, 4, 1, 5]\n",
        "res = remove_duplicates(lit)\n",
        "print(res, end=\" \")"
      ],
      "metadata": {
        "colab": {
          "base_uri": "https://localhost:8080/"
        },
        "id": "7iVTJIaGmC_l",
        "outputId": "c5975bc6-3d90-4618-d0a7-1bd755f4aa68"
      },
      "execution_count": null,
      "outputs": [
        {
          "output_type": "stream",
          "name": "stdout",
          "text": [
            "[1, 2, 3, 4, 5] "
          ]
        }
      ]
    },
    {
      "cell_type": "markdown",
      "source": [
        "Задание 3:\n",
        "\n",
        "Пересечение множеств: Напишите функцию, которая принимает два множества и возвращает их пересечение."
      ],
      "metadata": {
        "id": "0iMk1mwWmP4L"
      }
    },
    {
      "cell_type": "code",
      "source": [
        "def intersect_sets(set1, set2):\n",
        "  inter_set=[]\n",
        "  for elem in set2:\n",
        "    if elem in set1:\n",
        "      inter_set.append(elem)\n",
        "  return inter_set\n",
        "set1 = {1, 2, 3}\n",
        "set2 = {2, 3, 4}\n",
        "res=intersect_sets(set1,set2)\n",
        "print(res, end=\" \")"
      ],
      "metadata": {
        "colab": {
          "base_uri": "https://localhost:8080/"
        },
        "id": "fRLyXt81moRP",
        "outputId": "fab436d9-57a3-481c-9891-341bdd7bd59a"
      },
      "execution_count": null,
      "outputs": [
        {
          "output_type": "stream",
          "name": "stdout",
          "text": [
            "[2, 3] "
          ]
        }
      ]
    },
    {
      "cell_type": "markdown",
      "source": [
        "Задание 4:\n",
        "\n",
        "Объединение множеств: Напишите функцию, которая принимает два множества и возвращает их объединение."
      ],
      "metadata": {
        "id": "6lxIRziLnWXp"
      }
    },
    {
      "cell_type": "code",
      "source": [
        "def intersect_sets(set1, set2):\n",
        "  inter_set=set1.copy()\n",
        "  for elem in set2:\n",
        "    if elem not in inter_set:\n",
        "      inter_set.add(elem)\n",
        "  return inter_set\n",
        "set1 = {1, 2, 3}\n",
        "set2 = {2, 3, 4}\n",
        "res=intersect_sets(set1,set2)\n",
        "print(res, end=\" \")"
      ],
      "metadata": {
        "colab": {
          "base_uri": "https://localhost:8080/"
        },
        "id": "xZnqjxnZnemD",
        "outputId": "147d7b33-aa57-410b-f2c3-34b2ae15fcca"
      },
      "execution_count": null,
      "outputs": [
        {
          "output_type": "stream",
          "name": "stdout",
          "text": [
            "{1, 2, 3, 4} "
          ]
        }
      ]
    },
    {
      "cell_type": "markdown",
      "source": [
        "Задание 5:\n",
        "\n",
        "Разность множеств: Напишите функцию, которая принимает два множества и возвращает разность первого множества и второго."
      ],
      "metadata": {
        "id": "121J2AM8n3UR"
      }
    },
    {
      "cell_type": "code",
      "source": [
        "def diff_sets(set1, set2):\n",
        "  res_set=set()\n",
        "  for elem in set1:\n",
        "    if elem not in set2:\n",
        "      res_set.add(elem)\n",
        "  return res_set\n",
        "set1 = {1, 2, 3, 4}\n",
        "set2 = {3, 4, 5}\n",
        "res=diff_sets(set1, set2)\n",
        "print(res, end=\" \")"
      ],
      "metadata": {
        "colab": {
          "base_uri": "https://localhost:8080/"
        },
        "id": "MJaSVc_un88L",
        "outputId": "98e80f39-6942-4b04-f242-5dd0f7493f31"
      },
      "execution_count": null,
      "outputs": [
        {
          "output_type": "stream",
          "name": "stdout",
          "text": [
            "{1, 2} "
          ]
        }
      ]
    },
    {
      "cell_type": "markdown",
      "source": [
        "Задание 6:\n",
        "\n",
        "Симметрическая разность: Напишите функцию, которая принимает два множества и возвращает их симметрическую разность.\n",
        "\n"
      ],
      "metadata": {
        "id": "QexAK4mTpFX2"
      }
    },
    {
      "cell_type": "code",
      "source": [
        "def sym_dif(set1, set2):\n",
        "  res_set=set()\n",
        "  for e1 in set1:\n",
        "    if e1 in set1 and e1 not in set2:\n",
        "      res_set.add(e1)\n",
        "  for e2 in set2:\n",
        "    if e2 in set2 and e2 not in set1:\n",
        "      res_set.add(e2)\n",
        "  return res_set\n",
        "set1 = {1, 2, 3, 4}\n",
        "set2 = {3, 4, 5, 6}\n",
        "res=sym_dif(set1, set2)\n",
        "print(res, end=\" \")\n"
      ],
      "metadata": {
        "colab": {
          "base_uri": "https://localhost:8080/"
        },
        "id": "j5ebBb7gpQMz",
        "outputId": "13266ef2-382c-48d9-a1e2-afadb72b4cc7"
      },
      "execution_count": null,
      "outputs": [
        {
          "output_type": "stream",
          "name": "stdout",
          "text": [
            "{1, 2, 5, 6} "
          ]
        }
      ]
    },
    {
      "cell_type": "markdown",
      "source": [
        "Задание 7:\n",
        "\n",
        "Проверка подмножества: Напишите функцию, которая проверяет, является ли одно множество подмножеством другого.\n"
      ],
      "metadata": {
        "id": "RgtW2Er3rkE1"
      }
    },
    {
      "cell_type": "code",
      "source": [
        "def check_set(set, minset):\n",
        "  for elem in minset:\n",
        "    if elem in set:\n",
        "      res=True\n",
        "    else:\n",
        "      res=False\n",
        "  return res\n",
        "\n",
        "set1 = {1, 2, 3, 4}\n",
        "set2 = {3, 4, 5}\n",
        "res=check_set(set1, set2)\n",
        "print(res, end=\" \")"
      ],
      "metadata": {
        "colab": {
          "base_uri": "https://localhost:8080/"
        },
        "id": "mkz3IZyOrpKN",
        "outputId": "ad1b8715-3655-4e3d-97c7-cfa46fbca1b2"
      },
      "execution_count": null,
      "outputs": [
        {
          "output_type": "stream",
          "name": "stdout",
          "text": [
            "False "
          ]
        }
      ]
    },
    {
      "cell_type": "markdown",
      "source": [
        "Задание 8:\n",
        "\n",
        "Проверка надмножества: Напишите функцию, которая проверяет, является ли одно множество надмножеством другого."
      ],
      "metadata": {
        "id": "zGX_71FMsSMA"
      }
    },
    {
      "cell_type": "code",
      "source": [
        "def is_superset(set1, set2):\n",
        "    res = True\n",
        "    for elem in set2:\n",
        "        if elem not in set1:\n",
        "            res = False\n",
        "    return res\n",
        "\n",
        "set1 = {1, 2, 3, 4}\n",
        "set2 = {2, 3}\n",
        "res = is_superset(set1, set2)\n",
        "print(res, end=\" \")"
      ],
      "metadata": {
        "id": "IqGbsGzXs4hM"
      },
      "execution_count": null,
      "outputs": []
    },
    {
      "cell_type": "markdown",
      "source": [
        "Задание 9:\n",
        "\n",
        "Добавление элементов: Напишите функцию, которая добавляет все элементы из списка в множество."
      ],
      "metadata": {
        "id": "m7KMxQ4A3J1K"
      }
    },
    {
      "cell_type": "code",
      "source": [
        "def add_to_set(list):\n",
        "  res=set()\n",
        "  for elem in list:\n",
        "    if elem not in res:\n",
        "      res.add(elem)\n",
        "  return res\n",
        "\n",
        "lit=[1,2,3,4,4,4,5,2,1,4,30]\n",
        "res=add_to_set(lit)\n",
        "print(lit, end=\" \")\n",
        "print()\n",
        "print(res, end=\" \")"
      ],
      "metadata": {
        "colab": {
          "base_uri": "https://localhost:8080/"
        },
        "id": "1DDk5I3z3SUz",
        "outputId": "44a313cd-a9c0-4f9d-b933-868a26f44902"
      },
      "execution_count": null,
      "outputs": [
        {
          "output_type": "stream",
          "name": "stdout",
          "text": [
            "[1, 2, 3, 4, 4, 4, 5, 2, 1, 4, 30] \n",
            "{1, 2, 3, 4, 5, 30} "
          ]
        }
      ]
    },
    {
      "cell_type": "markdown",
      "source": [
        "Задание 16:\n",
        "\n",
        "Максимальный элемент: Напишите функцию, которая находит максимальный элемент в множестве.\n",
        "\n"
      ],
      "metadata": {
        "id": "ZXKyHQol4YB_"
      }
    },
    {
      "cell_type": "code",
      "source": [
        "def find_max_in_set(set):\n",
        "  max=float(\"-inf\")\n",
        "  for elem in set:\n",
        "    if elem>max:\n",
        "      max=elem\n",
        "  return max\n",
        "set1 = {1, 200, 3, 4}\n",
        "res=find_max_in_set(set1)\n",
        "print(res)"
      ],
      "metadata": {
        "colab": {
          "base_uri": "https://localhost:8080/"
        },
        "id": "GMWS5L-i5BFm",
        "outputId": "15cda0ad-aec2-4257-f8e5-f38fdbf96ea8"
      },
      "execution_count": null,
      "outputs": [
        {
          "output_type": "stream",
          "name": "stdout",
          "text": [
            "200\n"
          ]
        }
      ]
    },
    {
      "cell_type": "markdown",
      "source": [
        "Блок задачи на  TUPLE\n",
        "\n",
        "Задание 1:\n",
        "\n",
        "Создание кортежа из списка: Напишите функцию, которая принимает список и возвращает кортеж, содержащий те же элементы."
      ],
      "metadata": {
        "id": "lQ9wXRYx6FmB"
      }
    },
    {
      "cell_type": "code",
      "source": [
        "def tuple_from_list(mylist):\n",
        "  mytuple=tuple(mylist)\n",
        "  return mytuple\n",
        "\n",
        "lit=[1,2,3,4,5,6,7,8,9]\n",
        "res=tuple_from_list(lit)\n",
        "print(res, end=\" \")"
      ],
      "metadata": {
        "colab": {
          "base_uri": "https://localhost:8080/"
        },
        "id": "cXKniTZo6T-A",
        "outputId": "02d21878-8dc2-472b-ff03-59ea65cd69c0"
      },
      "execution_count": null,
      "outputs": [
        {
          "output_type": "stream",
          "name": "stdout",
          "text": [
            "(1, 2, 3, 4, 5, 6, 7, 8, 9) "
          ]
        }
      ]
    },
    {
      "cell_type": "markdown",
      "source": [],
      "metadata": {
        "id": "YF9DukLL6SDc"
      }
    },
    {
      "cell_type": "markdown",
      "source": [
        "Задание 2:\n",
        "\n",
        "Объединение кортежей: Напишите функцию, которая принимает два кортежа и возвращает их объединение."
      ],
      "metadata": {
        "id": "Th_TiR1i7Z0V"
      }
    },
    {
      "cell_type": "code",
      "source": [
        "def union_tuples(tup1, tup2):\n",
        "    r = (list(tup1)).copy()\n",
        "    for elem in tup2:\n",
        "        r.append(elem)\n",
        "    return tuple(r)\n",
        "\n",
        "t1 = (1, 2, 3, 4)\n",
        "t2 = (4, 6, 74, 5)\n",
        "resal = union_tuples(t1, t2)\n",
        "print(resal, end=\" \")\n",
        "\n"
      ],
      "metadata": {
        "colab": {
          "base_uri": "https://localhost:8080/"
        },
        "id": "VuIgh59B7v-6",
        "outputId": "305d1bef-5a7f-4180-e06c-9ac2ffc1de5b"
      },
      "execution_count": null,
      "outputs": [
        {
          "output_type": "stream",
          "name": "stdout",
          "text": [
            "(1, 2, 3, 4, 4, 6, 74, 5) "
          ]
        }
      ]
    },
    {
      "cell_type": "markdown",
      "source": [
        "Задание 3:\n",
        "\n",
        "Проверка на наличие элемента: Напишите функцию, которая проверяет, содержится ли заданный элемент в кортеже."
      ],
      "metadata": {
        "id": "jUzNqjOHno0m"
      }
    },
    {
      "cell_type": "code",
      "source": [
        "def find_elem(mytup, elementic):\n",
        "    for elem in mytup:\n",
        "        if elem == elementic:\n",
        "            return True\n",
        "    return False\n",
        "\n",
        "tup1 = (1, 2, 3, 4)\n",
        "num = int(input(\"elem = \"))\n",
        "res = find_elem(tup1, num)\n",
        "print(res)"
      ],
      "metadata": {
        "colab": {
          "base_uri": "https://localhost:8080/"
        },
        "id": "KYwyGewun3CA",
        "outputId": "09ee30cc-190e-44e5-bb14-8e3077e3781b"
      },
      "execution_count": null,
      "outputs": [
        {
          "output_type": "stream",
          "name": "stdout",
          "text": [
            "elem = 2\n",
            "True\n"
          ]
        }
      ]
    },
    {
      "cell_type": "markdown",
      "source": [],
      "metadata": {
        "id": "vTrt4anM7vWn"
      }
    },
    {
      "cell_type": "markdown",
      "source": [
        "Задание 4:\n",
        "\n",
        "Индекс первого вхождения: Напишите функцию, которая находит индекс первого вхождения заданного элемента в кортеже."
      ],
      "metadata": {
        "id": "ODnOLMtCryON"
      }
    },
    {
      "cell_type": "code",
      "source": [
        "def find_index_of_first_enters(tuple1, eleme):\n",
        "    for i in range(len(tuple1)):\n",
        "        if tuple1[i] == eleme:\n",
        "            return i\n",
        "    return False\n",
        "\n",
        "tup11 = (1, 2, 3, 4)\n",
        "num = int(input(\"elem = \"))\n",
        "res = find_index_of_first_enters(tup11, num)\n",
        "print(res)"
      ],
      "metadata": {
        "colab": {
          "base_uri": "https://localhost:8080/"
        },
        "id": "fLfZkAy6r8C7",
        "outputId": "6ce68e7e-973f-43da-fd09-f2ef6058f53c"
      },
      "execution_count": null,
      "outputs": [
        {
          "output_type": "stream",
          "name": "stdout",
          "text": [
            "elem = 2\n",
            "1\n"
          ]
        }
      ]
    },
    {
      "cell_type": "markdown",
      "source": [
        "Задание 5:\n",
        "\n",
        "Количество вхождений элемента: Напишите функцию, которая подсчитывает, сколько раз заданный элемент встречается в кортеже."
      ],
      "metadata": {
        "id": "7YpcqhxLumwj"
      }
    },
    {
      "cell_type": "code",
      "source": [
        "def find_count(tuple1, eleme):\n",
        "    sum=0\n",
        "    for i in range(len(tuple1)):\n",
        "        if tuple1[i] == eleme:\n",
        "            sum+=1\n",
        "    return sum\n",
        "\n",
        "tup11 = (1, 2, 3,3,3, 4,4,3)\n",
        "num = int(input(\"elem = \"))\n",
        "res = find_count(tup11, num)\n",
        "print(res)"
      ],
      "metadata": {
        "colab": {
          "base_uri": "https://localhost:8080/"
        },
        "id": "KvHBmACmuyrk",
        "outputId": "e2a3d053-5a57-4a9c-aa5c-e1bb188a04bf"
      },
      "execution_count": null,
      "outputs": [
        {
          "output_type": "stream",
          "name": "stdout",
          "text": [
            "elem = 3\n",
            "4\n"
          ]
        }
      ]
    },
    {
      "cell_type": "markdown",
      "source": [
        "Задание 6:\n",
        "\n",
        "Максимальный элемент: Напишите функцию, которая находит максимальный элемент в кортеже."
      ],
      "metadata": {
        "id": "yVBljYV2vWlm"
      }
    },
    {
      "cell_type": "markdown",
      "source": [],
      "metadata": {
        "id": "4z2ylDJPvR7c"
      }
    },
    {
      "cell_type": "code",
      "source": [
        "def find_max(tup):\n",
        "  f = tup[0]\n",
        "  for elem in tup:\n",
        "    if elem > f:\n",
        "      f = elem\n",
        "  return f\n",
        "\n",
        "tup1 = (1, 5, 3, 8, 2)\n",
        "res = find_max(tup1)\n",
        "print(res)"
      ],
      "metadata": {
        "colab": {
          "base_uri": "https://localhost:8080/"
        },
        "id": "t2OmEp-NvV06",
        "outputId": "e17ccfe2-53b9-40ef-f1ea-d6f65c6c502a"
      },
      "execution_count": null,
      "outputs": [
        {
          "output_type": "stream",
          "name": "stdout",
          "text": [
            "8\n"
          ]
        }
      ]
    },
    {
      "cell_type": "markdown",
      "source": [
        "Задание 7:\n",
        "\n",
        "Минимальный элемент: Напишите функцию, которая находит минимальный элемент в кортеже.\n",
        "\n"
      ],
      "metadata": {
        "id": "mU-uAY94v-L8"
      }
    },
    {
      "cell_type": "code",
      "source": [
        "def find_min(tup):\n",
        "  f = tup[0]\n",
        "  for elem in tup:\n",
        "    if elem < f:\n",
        "      f = elem\n",
        "  return f\n",
        "\n",
        "tup1 = (1, 5, 3, 8, 2)\n",
        "res = find_min(tup1)\n",
        "print(res)"
      ],
      "metadata": {
        "colab": {
          "base_uri": "https://localhost:8080/"
        },
        "id": "n6NAnfu8wJp6",
        "outputId": "3486084d-877e-48c7-9709-f63418a318fd"
      },
      "execution_count": null,
      "outputs": [
        {
          "output_type": "stream",
          "name": "stdout",
          "text": [
            "1\n"
          ]
        }
      ]
    },
    {
      "cell_type": "markdown",
      "source": [
        "Задание 8:\n",
        "\n",
        "\n",
        "Сортировка кортежа: Напишите функцию, которая возвращает отсортированный список на основе элементов кортежа."
      ],
      "metadata": {
        "id": "ZwkBdSlMwTJd"
      }
    },
    {
      "cell_type": "code",
      "source": [
        "def sort_tulpe(mytup):\n",
        "  mylist=list(mytup)\n",
        "  mylist.sort()\n",
        "  return mylist\n",
        "tup1 = (1, 5, 3, 8, 2)\n",
        "res = sort_tulpe(tup1)\n",
        "print(res)"
      ],
      "metadata": {
        "colab": {
          "base_uri": "https://localhost:8080/"
        },
        "id": "zDA3rguAwa1R",
        "outputId": "4e24c01e-1a50-4b3d-ddb8-84c5a3b30537"
      },
      "execution_count": null,
      "outputs": [
        {
          "output_type": "stream",
          "name": "stdout",
          "text": [
            "[1, 2, 3, 5, 8]\n"
          ]
        }
      ]
    },
    {
      "cell_type": "markdown",
      "source": [
        "Задание 9:\n",
        "\n"
      ],
      "metadata": {
        "id": "X3zaeGCIw10o"
      }
    },
    {
      "cell_type": "markdown",
      "source": [
        "Разбиение кортежа: Напишите функцию, которая разбивает кортеж на две части: первую половину и вторую половину."
      ],
      "metadata": {
        "id": "hhKZPSS7-FKZ"
      }
    },
    {
      "cell_type": "code",
      "source": [
        "def split_tup(tup):\n",
        "  mid = len(tup) // 2\n",
        "  part1 = tup[:mid]\n",
        "  part2 = tup[mid:]\n",
        "  return part1, part2\n",
        "\n",
        "tup1 = (1, 2, 3, 4, 5, 6)\n",
        "res1, res2 = split_tup(tup1)\n",
        "print(res1, res2)\n",
        "\n"
      ],
      "metadata": {
        "id": "bCTimq7w-Kk5"
      },
      "execution_count": null,
      "outputs": []
    },
    {
      "cell_type": "markdown",
      "source": [
        "Задание 10:\n",
        "\n"
      ],
      "metadata": {
        "id": "nMpTipVsAHQ6"
      }
    },
    {
      "cell_type": "markdown",
      "source": [
        "Обратный порядок: Напишите функцию, которая возвращает кортеж с элементами в обратном порядке."
      ],
      "metadata": {
        "id": "236mCMwiB0z3"
      }
    },
    {
      "cell_type": "code",
      "source": [
        "def reverse_tup(tup):\n",
        "  f = tup[::-1]\n",
        "  return f\n",
        "\n",
        "tup1 = (1, 2, 3, 4)\n",
        "res = reverse_tup(tup1)\n",
        "print(res)"
      ],
      "metadata": {
        "id": "oPZED5LSBx7T"
      },
      "execution_count": null,
      "outputs": []
    }
  ]
}