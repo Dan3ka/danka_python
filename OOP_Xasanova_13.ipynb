{
  "nbformat": 4,
  "nbformat_minor": 0,
  "metadata": {
    "colab": {
      "provenance": [],
      "authorship_tag": "ABX9TyPQ0ZKqiHmH5+Gsq5h8G5z4",
      "include_colab_link": true
    },
    "kernelspec": {
      "name": "python3",
      "display_name": "Python 3"
    },
    "language_info": {
      "name": "python"
    }
  },
  "cells": [
    {
      "cell_type": "markdown",
      "metadata": {
        "id": "view-in-github",
        "colab_type": "text"
      },
      "source": [
        "<a href=\"https://colab.research.google.com/github/Dan3ka/danka_python/blob/main/OOP_Xasanova_13.ipynb\" target=\"_parent\"><img src=\"https://colab.research.google.com/assets/colab-badge.svg\" alt=\"Open In Colab\"/></a>"
      ]
    },
    {
      "cell_type": "markdown",
      "source": [
        "Задание 2 (ооп)\n",
        "\n",
        "Вариант 13\n",
        "\n",
        "Хасанова Дана"
      ],
      "metadata": {
        "id": "hMCgWoz8p9s3"
      }
    },
    {
      "cell_type": "markdown",
      "source": [
        "Задача 13 (из 1 блока задач для сам.решения):\n",
        "\n",
        " Определите класс Contact с полями имя, номер телефона и электронная почта. Реализуйте методы update_phone(new_phone), который обновляет номер телефона, и display_info(), который выводит информацию о контакте."
      ],
      "metadata": {
        "id": "lJOKRsQgqsXy"
      }
    },
    {
      "cell_type": "code",
      "source": [
        "class Contact:\n",
        "  def __init__(self, name, contact_num, mail):\n",
        "    self.name=name\n",
        "    self.contact_num=contact_num\n",
        "    self.mail=mail\n",
        "  def update_phone(self,new_num):\n",
        "    self.contact_num=new_num\n",
        "  def display_info(self):\n",
        "    print(f\"Name of contact is {self.name}\\n\")\n",
        "    print(f\"Contact number is {self.contact_num}\\n\")\n",
        "    print(f\"Mail of contact is {self.mail}\\n\")\n",
        "#test\n",
        "contact_one=Contact(\"Dana\",123, \"dana@mail.ru\")\n",
        "contact_one=Contact(\"Olga\",543, \"olga@mail.ru\")\n",
        "contact_one.display_info()\n",
        "contact_one.update_phone(500000)\n",
        "contact_one.display_info()"
      ],
      "metadata": {
        "id": "s2MlGg_VqF0Y"
      },
      "execution_count": null,
      "outputs": []
    },
    {
      "cell_type": "markdown",
      "source": [
        "Задача 13 (из 2 блока задач для сам.решения):\n",
        "\n",
        " Определите класс Contact, который наследуется от класса Profile. Класс Contact должен добавлять поля номер телефона и электронная почта, а также методы для обновления номера телефона."
      ],
      "metadata": {
        "id": "Fr082_Fd259V"
      }
    },
    {
      "cell_type": "code",
      "source": [
        "class Profile:\n",
        "  def __init__(self):\n",
        "    self.name=\"dana\"\n",
        "\n",
        "class Contact(Profile):\n",
        "  def __init__ (self, phone_num, mail):\n",
        "    super().__init__()\n",
        "    self.phone_num=phone_num\n",
        "    self.mail=mail\n",
        "\n",
        "  def renew_num(self, new_num):\n",
        "    self.phone_num=new_num\n",
        "    return self.phone_num\n",
        "user=Contact(123, \"dana@mail.ru\")\n",
        "print(f\"{user.phone_num}\\n\")\n",
        "print(f\"{user.renew_num(256)}\\n\")\n"
      ],
      "metadata": {
        "colab": {
          "base_uri": "https://localhost:8080/"
        },
        "id": "1jmkV513s2v7",
        "outputId": "22d3d45e-0bc9-4cd7-9bee-4cff93644618"
      },
      "execution_count": null,
      "outputs": [
        {
          "output_type": "stream",
          "name": "stdout",
          "text": [
            "123\n",
            "\n",
            "256\n",
            "\n"
          ]
        }
      ]
    },
    {
      "cell_type": "markdown",
      "source": [
        "Задача 13 (из 3 блока задач для сам.решения):\n",
        "\n",
        " Создать класс Contact, у которого поля name, phoneNumber и email будут приватными. Реализовать методы для изменения номера телефона и получения информации о контакте с проверкой корректности вводимых данных."
      ],
      "metadata": {
        "id": "c9ZN5GGm3nJK"
      }
    },
    {
      "cell_type": "code",
      "source": [
        "class Contact:\n",
        "  def __init__(self, name, phone_number, email):\n",
        "        self.__name = name\n",
        "        self.__phone_number = phone_number\n",
        "        self.__email = email\n",
        "        self.is_valid = True\n",
        "\n",
        "        if not self.__validate_phone():\n",
        "            self.is_valid = False\n",
        "        if not self.__validate_email():\n",
        "            self.is_valid = False\n",
        "  def validate_data(self, name, num, mail):\n",
        "    if len(self.__name) == 0:\n",
        "            print(\"Имя не может быть пустым\")\n",
        "            return False\n",
        "    return True\n",
        "  def __validate_phone(self):\n",
        "\n",
        "        phone = self.__phone_number\n",
        "        if len(phone) != 10 and len(phone) != 11:\n",
        "            print(\"Номер телефона должен быть 10 или 11 цифр\")\n",
        "            return False\n",
        "        return True\n",
        "  def __validate_email(self):\n",
        "        if \"@\" not in self.__email:\n",
        "            print(\"Email должен содержать @\")\n",
        "            return False\n",
        "        return True\n",
        "\n",
        "  def change_number(self, new_number):\n",
        "        self.__phone_number = new_number\n",
        "        if not self.__validate_phone():\n",
        "            self.is_valid = False\n",
        "        return self.__phone_number\n",
        "\n",
        "  def get_info(self):\n",
        "        if self.is_valid:\n",
        "            print(\"Имя:\", self.__name)\n",
        "            print(\"Номер телефона:\", self.__phone_number)\n",
        "            print(\"Email:\", self.__email)\n",
        "        else:\n",
        "            print(\"Данные контакта некорректны\")\n",
        "\n",
        "\n",
        "contact1 = Contact(\"Анна\", \"12345678901\", \"anna@mail.com\")\n",
        "contact1.get_info()\n",
        "\n",
        "print(\"-----\")\n",
        "\n",
        "contact2 = Contact(\"\", \"123\", \"anna\")\n",
        "contact2.get_info()\n",
        "\n",
        "print(\"-----\")\n",
        "\n",
        "contact1.change_number(\"9876543210\")\n",
        "contact1.get_info()\n"
      ],
      "metadata": {
        "id": "1OaJ3F8SxCic",
        "colab": {
          "base_uri": "https://localhost:8080/"
        },
        "outputId": "a04cfb47-e144-4dd7-8c4c-b4048021fed3"
      },
      "execution_count": null,
      "outputs": [
        {
          "output_type": "stream",
          "name": "stdout",
          "text": [
            "Имя: Анна\n",
            "Номер телефона: 12345678901\n",
            "Email: anna@mail.com\n",
            "-----\n",
            "Номер телефона должен быть 10 или 11 цифр\n",
            "Email должен содержать @\n",
            "Данные контакта некорректны\n",
            "-----\n",
            "Имя: Анна\n",
            "Номер телефона: 9876543210\n",
            "Email: anna@mail.com\n"
          ]
        }
      ]
    },
    {
      "cell_type": "markdown",
      "source": [
        "Задача 13 (из 4 блока задач для сам.решения):\n",
        "\n",
        "\n",
        "Команда и игрок.  Постройте класс `Команда`, который включает список игроков. В классе `Команда` должен быть метод для добавления игроков с указанием их имен и позиций. Класс `Игрок` должен иметь поля `имя` и `позиция`. Игроки не могут существовать без команды."
      ],
      "metadata": {
        "id": "Cj_bI9ShcO3T"
      }
    },
    {
      "cell_type": "code",
      "source": [
        "class Team:\n",
        "  class Player:\n",
        "    def __init__(self, name, position):\n",
        "      self.name=name\n",
        "      self.position=position\n",
        "  def __init__(self):\n",
        "    self.team=[]\n",
        "  def add_member(self, name, pos):\n",
        "    player=Team.Player(name, pos)\n",
        "    if len(self.team) <25:\n",
        "      self.team.append(player)\n",
        "my_team = Team()\n",
        "my_team.add_member(\"Камиль\", \"Полузащитник\")\n",
        "print(len(my_team.team))"
      ],
      "metadata": {
        "colab": {
          "base_uri": "https://localhost:8080/"
        },
        "id": "dxldkuLrYTKK",
        "outputId": "325f6adf-0897-4555-f625-b85d323cb4a3"
      },
      "execution_count": null,
      "outputs": [
        {
          "output_type": "stream",
          "name": "stdout",
          "text": [
            "1\n"
          ]
        }
      ]
    },
    {
      "cell_type": "markdown",
      "source": [
        "Задача 13 (из 4 блока задач для сам.решения):\n",
        "\n",
        ". Школа и ученик. Создайте класс `Школа`, который включает список учеников. У класса `Ученик` есть поля `имя` и `возраст`. Ученики могут существовать независимо от школы."
      ],
      "metadata": {
        "id": "r0kWWEMesZUa"
      }
    },
    {
      "cell_type": "code",
      "source": [
        "class Student:\n",
        "  def __init__(self, name, age):\n",
        "    self.name=name\n",
        "    self.age=age\n",
        "\n",
        "class School:\n",
        "  def __init__(self):\n",
        "    self.list=[]\n",
        "\n",
        "  def add_student(self,student):\n",
        "    self.list.append(student)\n",
        "\n",
        "\n",
        "student=Student(\"Dana\", 19)\n",
        "school=School()\n",
        "\n",
        "school.add_student(student)\n",
        "print(school.list[0].name)\n",
        "print(school.list[0].age)\n"
      ],
      "metadata": {
        "colab": {
          "base_uri": "https://localhost:8080/"
        },
        "id": "Yzowk0U5sp9n",
        "outputId": "06010274-b92c-4e5f-dfb8-b443795392b2"
      },
      "execution_count": null,
      "outputs": [
        {
          "output_type": "stream",
          "name": "stdout",
          "text": [
            "Dana\n",
            "19\n"
          ]
        }
      ]
    },
    {
      "cell_type": "markdown",
      "source": [
        "Задача 13 (из 5 блока задач для сам.решения):\n",
        "\n",
        "Определить абстрактный класс User с абстрактными методами login() и logout(). Реализовать подклассы AdminUser и RegularUser, которые реализуют методы login() и logout()."
      ],
      "metadata": {
        "id": "hmH6FXLGul7k"
      }
    },
    {
      "cell_type": "code",
      "source": [
        "import abc\n",
        "class User(abc.ABC):\n",
        "  def __init__(self, username):\n",
        "        self.username = username\n",
        "        self.is_logged_in = False\n",
        "  @abc.abstractmethod\n",
        "  def login(self):\n",
        "    pass\n",
        "  @abc.abstractmethod\n",
        "  def logout(self):\n",
        "    pass\n",
        "\n",
        "class AdminUser(User):\n",
        "  def login(self):\n",
        "    if not self.is_logged_in:\n",
        "            print(f\"Admin {self.username} log in system\")\n",
        "            self.is_logged_in = True\n",
        "    else:\n",
        "            print(f\"Admin {self.username} is already in system\")\n",
        "\n",
        "  def logout(self):\n",
        "    if self.is_logged_in:\n",
        "            print(f\"Admin {self.username} loged out\")\n",
        "            self.is_logged_in = False\n",
        "    else:\n",
        "            print(f\"Admin {self.username} didn't log in system\")\n",
        "class RegularUser(User):\n",
        "   def login(self):\n",
        "    if not self.is_logged_in:\n",
        "            print(f\"Regular user {self.username} log in \")\n",
        "            self.is_logged_in = True\n",
        "    else:\n",
        "            print(f\"Regular user {self.username} is already in system\")\n",
        "\n",
        "   def logout(self):\n",
        "     if self.is_logged_in:\n",
        "            print(f\"Regular user {self.username} loged out\")\n",
        "            self.is_logged_in = False\n",
        "     else:\n",
        "            print(f\"Regular user {self.username} didn't log in system\")\n",
        "\n",
        "admin = AdminUser(\"Dana\")\n",
        "admin.login()\n",
        "user=RegularUser(\"Dina\")\n",
        "user.logout()"
      ],
      "metadata": {
        "id": "0W9WLJrDuvuv",
        "colab": {
          "base_uri": "https://localhost:8080/"
        },
        "outputId": "3696241d-08b3-433f-8757-613bf84f2ad6"
      },
      "execution_count": null,
      "outputs": [
        {
          "output_type": "stream",
          "name": "stdout",
          "text": [
            "Администратор Dana вошел в систему с повышенными привилегиями\n",
            "Пользователь Dina не был авторизован\n"
          ]
        }
      ]
    },
    {
      "cell_type": "markdown",
      "source": [
        "Задача 13 (из 6 блока задач для сам.решения):\n",
        "\n",
        "Создать интерфейс IContact, который содержит методы updatePhoneNumber(String phoneNumber) и getContactInfo(). Создать класс Contact, реализующий этот интерфейс. Класс должен содержать поля name, phoneNumber и email."
      ],
      "metadata": {
        "id": "PQc6wo6puxx8"
      }
    },
    {
      "cell_type": "code",
      "source": [
        "from abc import ABC, abstractmethod\n",
        "\n",
        "class IContact(ABC):\n",
        " @abstractmethod\n",
        " def updatePhoneNumber(self, phone_num: str):\n",
        "   pass\n",
        " @abstractmethod\n",
        " def getContactInfo(self):\n",
        "   pass\n",
        "\n",
        "class Contact(IContact):\n",
        "   def __init__(self, num, name, mail):\n",
        "    self.phoneNumber=num\n",
        "    self.name=name\n",
        "    self.email=mail\n",
        "   def updatePhoneNumber(self, new_num: str):\n",
        "    self.phoneNumber=new_num\n",
        "   def getContactInfo(self):\n",
        "    print(f\"Name of contact is {self.name}\\n\")\n",
        "    print(f\"Phone Number of contact is {self.phoneNumber}\\n\")\n",
        "    print(f\"Email of contact is {self.email}\\n\")\n",
        "\n",
        "contact=Contact(\"899\", \"Dana\", \"dana@mail.ru\")\n",
        "contact.getContactInfo()\n",
        "contact.updatePhoneNumber(\"566\")\n",
        "contact.getContactInfo()\n"
      ],
      "metadata": {
        "id": "M-VggEx4u9sQ",
        "colab": {
          "base_uri": "https://localhost:8080/"
        },
        "outputId": "c2b0856d-3bd2-4a42-cc26-91cb73b8f1dc"
      },
      "execution_count": null,
      "outputs": [
        {
          "output_type": "stream",
          "name": "stdout",
          "text": [
            "Name of contact is Dana\n",
            "\n",
            "Phone Number of contact is 899\n",
            "\n",
            "Email of contact is dana@mail.ru\n",
            "\n",
            "Name of contact is Dana\n",
            "\n",
            "Phone Number of contact is 566\n",
            "\n",
            "Email of contact is dana@mail.ru\n",
            "\n"
          ]
        }
      ]
    },
    {
      "cell_type": "markdown",
      "source": [
        "Задача 13 (из 7 блока задач для сам.решения):\n",
        "\n",
        "Определите метод sendNotification() в классе Contact, который будет отправлять уведомление контакту. Создайте подклассы EmailContact и PhoneContact, которые будут переопределять этот метод для отправки разных типов уведомлений."
      ],
      "metadata": {
        "id": "ZtQIHeWovAlr"
      }
    },
    {
      "cell_type": "code",
      "source": [
        "class Contact:\n",
        "  def __init__(self, name, message=\"\"):\n",
        "    self.name=name;\n",
        "    self.message=message\n",
        "  def sendNotification(self, mess):\n",
        "    self.message=mess\n",
        "    print(\"kamil vonuchka\")\n",
        "\n",
        "class EmailContact(Contact):\n",
        "  def __init__(self, name, mail):\n",
        "    super().__init__(name)\n",
        "    self.mail=mail\n",
        "  def sendNotification(self, mess):\n",
        "    self.message=mess\n",
        "    print(f\"Tnis message {self.message} was sent on EMAIL {self.mail}\")\n",
        "\n",
        "\n",
        "class PhoneContact(Contact):\n",
        "  def __init__(self, name, num):\n",
        "    super().__init__(name)\n",
        "    self.num=num\n",
        "  def sendNotification(self, mess):\n",
        "    self.message=mess\n",
        "    print(f\"This message {self.message} was sent on PHONE {self.num}\")\n",
        "\n",
        "mail=EmailContact(\"Dana\", \"dana@mail.ru\")\n",
        "mail.sendNotification(\"meow meow\")\n",
        "\n",
        "phone=PhoneContact(\"Dina\", \"dina@mail.ru\")\n",
        "phone.sendNotification(\"raw raw\")\n"
      ],
      "metadata": {
        "id": "FvwseSAXvRWt",
        "colab": {
          "base_uri": "https://localhost:8080/"
        },
        "outputId": "250ee544-66e6-4b6f-954e-4d072a921a4a"
      },
      "execution_count": 6,
      "outputs": [
        {
          "output_type": "stream",
          "name": "stdout",
          "text": [
            "Tnis message meow meow was sent on EMAIL dana@mail.ru\n",
            "This message raw raw was sent on PHONE dina@mail.ru\n"
          ]
        }
      ]
    }
  ]
}